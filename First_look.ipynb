{
 "cells": [
  {
   "cell_type": "code",
   "execution_count": 1,
   "metadata": {},
   "outputs": [],
   "source": [
    "import h2o\n",
    "from h2o.automl import H2OAutoML"
   ]
  },
  {
   "cell_type": "code",
   "execution_count": 2,
   "metadata": {},
   "outputs": [
    {
     "name": "stdout",
     "output_type": "stream",
     "text": [
      "Checking whether there is an H2O instance running at http://localhost:54321 . connected.\n"
     ]
    },
    {
     "data": {
      "text/html": [
       "<div style=\"overflow:auto\"><table style=\"width:50%\"><tr><td>H2O cluster uptime:</td>\n",
       "<td>9 days 0 hours 45 mins</td></tr>\n",
       "<tr><td>H2O cluster timezone:</td>\n",
       "<td>America/Los_Angeles</td></tr>\n",
       "<tr><td>H2O data parsing timezone:</td>\n",
       "<td>UTC</td></tr>\n",
       "<tr><td>H2O cluster version:</td>\n",
       "<td>3.26.0.9</td></tr>\n",
       "<tr><td>H2O cluster version age:</td>\n",
       "<td>1 month and 2 days </td></tr>\n",
       "<tr><td>H2O cluster name:</td>\n",
       "<td>H2O_from_python_cjq_twg98p</td></tr>\n",
       "<tr><td>H2O cluster total nodes:</td>\n",
       "<td>1</td></tr>\n",
       "<tr><td>H2O cluster free memory:</td>\n",
       "<td>2.632 Gb</td></tr>\n",
       "<tr><td>H2O cluster total cores:</td>\n",
       "<td>4</td></tr>\n",
       "<tr><td>H2O cluster allowed cores:</td>\n",
       "<td>4</td></tr>\n",
       "<tr><td>H2O cluster status:</td>\n",
       "<td>locked, healthy</td></tr>\n",
       "<tr><td>H2O connection url:</td>\n",
       "<td>http://localhost:54321</td></tr>\n",
       "<tr><td>H2O connection proxy:</td>\n",
       "<td>{'http': None, 'https': None}</td></tr>\n",
       "<tr><td>H2O internal security:</td>\n",
       "<td>False</td></tr>\n",
       "<tr><td>H2O API Extensions:</td>\n",
       "<td>Amazon S3, XGBoost, Algos, AutoML, Core V3, TargetEncoder, Core V4</td></tr>\n",
       "<tr><td>Python version:</td>\n",
       "<td>3.7.3 final</td></tr></table></div>"
      ],
      "text/plain": [
       "--------------------------  ------------------------------------------------------------------\n",
       "H2O cluster uptime:         9 days 0 hours 45 mins\n",
       "H2O cluster timezone:       America/Los_Angeles\n",
       "H2O data parsing timezone:  UTC\n",
       "H2O cluster version:        3.26.0.9\n",
       "H2O cluster version age:    1 month and 2 days\n",
       "H2O cluster name:           H2O_from_python_cjq_twg98p\n",
       "H2O cluster total nodes:    1\n",
       "H2O cluster free memory:    2.632 Gb\n",
       "H2O cluster total cores:    4\n",
       "H2O cluster allowed cores:  4\n",
       "H2O cluster status:         locked, healthy\n",
       "H2O connection url:         http://localhost:54321\n",
       "H2O connection proxy:       {'http': None, 'https': None}\n",
       "H2O internal security:      False\n",
       "H2O API Extensions:         Amazon S3, XGBoost, Algos, AutoML, Core V3, TargetEncoder, Core V4\n",
       "Python version:             3.7.3 final\n",
       "--------------------------  ------------------------------------------------------------------"
      ]
     },
     "metadata": {},
     "output_type": "display_data"
    }
   ],
   "source": [
    "h2o.init()"
   ]
  },
  {
   "cell_type": "code",
   "execution_count": 3,
   "metadata": {},
   "outputs": [
    {
     "name": "stdout",
     "output_type": "stream",
     "text": [
      "Parse progress: |█████████████████████████████████████████████████████████| 100%\n"
     ]
    }
   ],
   "source": [
    "import pandas as pd\n",
    "train = h2o.import_file('train.csv')"
   ]
  },
  {
   "cell_type": "markdown",
   "metadata": {},
   "source": [
    "## The train data has 20216100 observations. Meter_reading has nearly 1/10 of zero values. None of the observations has missing values."
   ]
  },
  {
   "cell_type": "code",
   "execution_count": 4,
   "metadata": {},
   "outputs": [
    {
     "name": "stdout",
     "output_type": "stream",
     "text": [
      "Rows:20216100\n",
      "Cols:4\n",
      "\n",
      "\n"
     ]
    },
    {
     "data": {
      "text/html": [
       "<table>\n",
       "<thead>\n",
       "<tr><th>       </th><th>building_id      </th><th>meter             </th><th>timestamp          </th><th>meter_reading     </th></tr>\n",
       "</thead>\n",
       "<tbody>\n",
       "<tr><td>type   </td><td>int              </td><td>int               </td><td>time               </td><td>real              </td></tr>\n",
       "<tr><td>mins   </td><td>0.0              </td><td>0.0               </td><td>1451606400000.0    </td><td>0.0               </td></tr>\n",
       "<tr><td>mean   </td><td>799.2780003561662</td><td>0.6624411731243841</td><td>1467586780301.6074 </td><td>2117.1210762116893</td></tr>\n",
       "<tr><td>maxs   </td><td>1448.0           </td><td>3.0               </td><td>1483225200000.0    </td><td>21904700.0        </td></tr>\n",
       "<tr><td>sigma  </td><td>426.9133090350111</td><td>0.9309920796461069</td><td>9094771307.681942  </td><td>153235.62499843666</td></tr>\n",
       "<tr><td>zeros  </td><td>8784             </td><td>12060910          </td><td>0                  </td><td>1873976           </td></tr>\n",
       "<tr><td>missing</td><td>0                </td><td>0                 </td><td>0                  </td><td>0                 </td></tr>\n",
       "<tr><td>0      </td><td>0.0              </td><td>0.0               </td><td>2016-01-01 00:00:00</td><td>0.0               </td></tr>\n",
       "<tr><td>1      </td><td>1.0              </td><td>0.0               </td><td>2016-01-01 00:00:00</td><td>0.0               </td></tr>\n",
       "<tr><td>2      </td><td>2.0              </td><td>0.0               </td><td>2016-01-01 00:00:00</td><td>0.0               </td></tr>\n",
       "<tr><td>3      </td><td>3.0              </td><td>0.0               </td><td>2016-01-01 00:00:00</td><td>0.0               </td></tr>\n",
       "<tr><td>4      </td><td>4.0              </td><td>0.0               </td><td>2016-01-01 00:00:00</td><td>0.0               </td></tr>\n",
       "<tr><td>5      </td><td>5.0              </td><td>0.0               </td><td>2016-01-01 00:00:00</td><td>0.0               </td></tr>\n",
       "<tr><td>6      </td><td>6.0              </td><td>0.0               </td><td>2016-01-01 00:00:00</td><td>0.0               </td></tr>\n",
       "<tr><td>7      </td><td>7.0              </td><td>0.0               </td><td>2016-01-01 00:00:00</td><td>0.0               </td></tr>\n",
       "<tr><td>8      </td><td>8.0              </td><td>0.0               </td><td>2016-01-01 00:00:00</td><td>0.0               </td></tr>\n",
       "<tr><td>9      </td><td>9.0              </td><td>0.0               </td><td>2016-01-01 00:00:00</td><td>0.0               </td></tr>\n",
       "</tbody>\n",
       "</table>"
      ]
     },
     "metadata": {},
     "output_type": "display_data"
    }
   ],
   "source": [
    "train.describe()"
   ]
  },
  {
   "cell_type": "code",
   "execution_count": 6,
   "metadata": {},
   "outputs": [
    {
     "name": "stdout",
     "output_type": "stream",
     "text": [
      "Parse progress: |█████████████████████████████████████████████████████████| 100%\n"
     ]
    }
   ],
   "source": [
    "test = h2o.import_file('test.csv')"
   ]
  },
  {
   "cell_type": "markdown",
   "metadata": {},
   "source": [
    "## None of the observations from test data has missing values."
   ]
  },
  {
   "cell_type": "code",
   "execution_count": 7,
   "metadata": {},
   "outputs": [
    {
     "name": "stdout",
     "output_type": "stream",
     "text": [
      "Rows:41697600\n",
      "Cols:4\n",
      "\n",
      "\n"
     ]
    },
    {
     "data": {
      "text/html": [
       "<table>\n",
       "<thead>\n",
       "<tr><th>       </th><th>row_id            </th><th>building_id       </th><th>meter             </th><th>timestamp          </th></tr>\n",
       "</thead>\n",
       "<tbody>\n",
       "<tr><td>type   </td><td>int               </td><td>int               </td><td>int               </td><td>time               </td></tr>\n",
       "<tr><td>mins   </td><td>0.0               </td><td>0.0               </td><td>0.0               </td><td>1483228800000.0    </td></tr>\n",
       "<tr><td>mean   </td><td>20848799.5        </td><td>807.5823529411867 </td><td>0.6642857142857127</td><td>1514763000000.011  </td></tr>\n",
       "<tr><td>maxs   </td><td>41697599.0        </td><td>1448.0            </td><td>3.0               </td><td>1546297200000.0    </td></tr>\n",
       "<tr><td>sigma  </td><td>12037060.436618235</td><td>429.76801217189586</td><td>0.9278067421486685</td><td>18207318277.844154 </td></tr>\n",
       "<tr><td>zeros  </td><td>1                 </td><td>17520             </td><td>24755760          </td><td>0                  </td></tr>\n",
       "<tr><td>missing</td><td>0                 </td><td>0                 </td><td>0                 </td><td>0                  </td></tr>\n",
       "<tr><td>0      </td><td>0.0               </td><td>0.0               </td><td>0.0               </td><td>2017-01-01 00:00:00</td></tr>\n",
       "<tr><td>1      </td><td>1.0               </td><td>1.0               </td><td>0.0               </td><td>2017-01-01 00:00:00</td></tr>\n",
       "<tr><td>2      </td><td>2.0               </td><td>2.0               </td><td>0.0               </td><td>2017-01-01 00:00:00</td></tr>\n",
       "<tr><td>3      </td><td>3.0               </td><td>3.0               </td><td>0.0               </td><td>2017-01-01 00:00:00</td></tr>\n",
       "<tr><td>4      </td><td>4.0               </td><td>4.0               </td><td>0.0               </td><td>2017-01-01 00:00:00</td></tr>\n",
       "<tr><td>5      </td><td>5.0               </td><td>5.0               </td><td>0.0               </td><td>2017-01-01 00:00:00</td></tr>\n",
       "<tr><td>6      </td><td>6.0               </td><td>6.0               </td><td>0.0               </td><td>2017-01-01 00:00:00</td></tr>\n",
       "<tr><td>7      </td><td>7.0               </td><td>7.0               </td><td>0.0               </td><td>2017-01-01 00:00:00</td></tr>\n",
       "<tr><td>8      </td><td>8.0               </td><td>7.0               </td><td>1.0               </td><td>2017-01-01 00:00:00</td></tr>\n",
       "<tr><td>9      </td><td>9.0               </td><td>8.0               </td><td>0.0               </td><td>2017-01-01 00:00:00</td></tr>\n",
       "</tbody>\n",
       "</table>"
      ]
     },
     "metadata": {},
     "output_type": "display_data"
    }
   ],
   "source": [
    "test.describe()"
   ]
  },
  {
   "cell_type": "code",
   "execution_count": 8,
   "metadata": {},
   "outputs": [
    {
     "name": "stdout",
     "output_type": "stream",
     "text": [
      "Parse progress: |█████████████████████████████████████████████████████████| 100%\n"
     ]
    }
   ],
   "source": [
    "weather_train = h2o.import_file('weather_train.csv')"
   ]
  },
  {
   "cell_type": "markdown",
   "metadata": {},
   "source": [
    "## Cloud_coverage and precip_depth_1_hr\t have nearly half missing values. Besides, dew_temperature, wind_direction, wind_speed and air_temperature have few missing values."
   ]
  },
  {
   "cell_type": "code",
   "execution_count": 9,
   "metadata": {},
   "outputs": [
    {
     "name": "stdout",
     "output_type": "stream",
     "text": [
      "Rows:139773\n",
      "Cols:9\n",
      "\n",
      "\n"
     ]
    },
    {
     "data": {
      "text/html": [
       "<table>\n",
       "<thead>\n",
       "<tr><th>       </th><th>site_id          </th><th>timestamp          </th><th>air_temperature   </th><th>cloud_coverage    </th><th>dew_temperature  </th><th>precip_depth_1_hr  </th><th>sea_level_pressure  </th><th>wind_direction    </th><th>wind_speed        </th></tr>\n",
       "</thead>\n",
       "<tbody>\n",
       "<tr><td>type   </td><td>int              </td><td>time               </td><td>real              </td><td>int               </td><td>real             </td><td>int                </td><td>real                </td><td>int               </td><td>real              </td></tr>\n",
       "<tr><td>mins   </td><td>0.0              </td><td>1451606400000.0    </td><td>-28.9             </td><td>0.0               </td><td>-35.0            </td><td>-1.0               </td><td>968.2               </td><td>0.0               </td><td>0.0               </td></tr>\n",
       "<tr><td>mean   </td><td>7.478976626387071</td><td>1467443877942.0913 </td><td>14.418106471607084</td><td>2.149305949008498 </td><td>7.350158241443526</td><td>0.9830472486701535 </td><td>1016.1580380163366  </td><td>180.52663196134964</td><td>3.560527429034407 </td></tr>\n",
       "<tr><td>maxs   </td><td>15.0             </td><td>1483225200000.0    </td><td>47.2              </td><td>9.0               </td><td>26.1             </td><td>343.0              </td><td>1045.5              </td><td>360.0             </td><td>19.0              </td></tr>\n",
       "<tr><td>sigma  </td><td>4.604744377700789</td><td>9115876265.188166  </td><td>10.62659521977632 </td><td>2.5991497889989637</td><td>9.790234964869867</td><td>8.463677937148658  </td><td>7.6296838724327305  </td><td>111.5236292283337 </td><td>2.3358737589883622</td></tr>\n",
       "<tr><td>zeros  </td><td>8784             </td><td>0                  </td><td>812               </td><td>33871             </td><td>2013             </td><td>77910              </td><td>0                   </td><td>13154             </td><td>13542             </td></tr>\n",
       "<tr><td>missing</td><td>0                </td><td>0                  </td><td>55                </td><td>69173             </td><td>113              </td><td>50289              </td><td>10618               </td><td>6268              </td><td>304               </td></tr>\n",
       "<tr><td>0      </td><td>0.0              </td><td>2016-01-01 00:00:00</td><td>25.0              </td><td>6.0               </td><td>20.0             </td><td>nan                </td><td>1019.7              </td><td>0.0               </td><td>0.0               </td></tr>\n",
       "<tr><td>1      </td><td>0.0              </td><td>2016-01-01 01:00:00</td><td>24.4              </td><td>nan               </td><td>21.1             </td><td>-1.0               </td><td>1020.2              </td><td>70.0              </td><td>1.5               </td></tr>\n",
       "<tr><td>2      </td><td>0.0              </td><td>2016-01-01 02:00:00</td><td>22.8              </td><td>2.0               </td><td>21.1             </td><td>0.0                </td><td>1020.2              </td><td>0.0               </td><td>0.0               </td></tr>\n",
       "<tr><td>3      </td><td>0.0              </td><td>2016-01-01 03:00:00</td><td>21.1              </td><td>2.0               </td><td>20.6             </td><td>0.0                </td><td>1020.1              </td><td>0.0               </td><td>0.0               </td></tr>\n",
       "<tr><td>4      </td><td>0.0              </td><td>2016-01-01 04:00:00</td><td>20.0              </td><td>2.0               </td><td>20.0             </td><td>-1.0               </td><td>1020.0              </td><td>250.0             </td><td>2.6               </td></tr>\n",
       "<tr><td>5      </td><td>0.0              </td><td>2016-01-01 05:00:00</td><td>19.4              </td><td>nan               </td><td>19.4             </td><td>0.0                </td><td>nan                 </td><td>0.0               </td><td>0.0               </td></tr>\n",
       "<tr><td>6      </td><td>0.0              </td><td>2016-01-01 06:00:00</td><td>21.1              </td><td>6.0               </td><td>21.1             </td><td>-1.0               </td><td>1019.4              </td><td>0.0               </td><td>0.0               </td></tr>\n",
       "<tr><td>7      </td><td>0.0              </td><td>2016-01-01 07:00:00</td><td>21.1              </td><td>nan               </td><td>21.1             </td><td>0.0                </td><td>1018.8              </td><td>210.0             </td><td>1.5               </td></tr>\n",
       "<tr><td>8      </td><td>0.0              </td><td>2016-01-01 08:00:00</td><td>20.6              </td><td>nan               </td><td>20.0             </td><td>0.0                </td><td>1018.1              </td><td>0.0               </td><td>0.0               </td></tr>\n",
       "<tr><td>9      </td><td>0.0              </td><td>2016-01-01 09:00:00</td><td>21.1              </td><td>nan               </td><td>20.6             </td><td>0.0                </td><td>1019.0              </td><td>290.0             </td><td>1.5               </td></tr>\n",
       "</tbody>\n",
       "</table>"
      ]
     },
     "metadata": {},
     "output_type": "display_data"
    }
   ],
   "source": [
    "weather_train.describe()"
   ]
  },
  {
   "cell_type": "code",
   "execution_count": 10,
   "metadata": {},
   "outputs": [
    {
     "name": "stdout",
     "output_type": "stream",
     "text": [
      "Parse progress: |█████████████████████████████████████████████████████████| 100%\n"
     ]
    }
   ],
   "source": [
    "weather_test = h2o.import_file('weather_test.csv')"
   ]
  },
  {
   "cell_type": "code",
   "execution_count": 11,
   "metadata": {},
   "outputs": [
    {
     "name": "stdout",
     "output_type": "stream",
     "text": [
      "Rows:277243\n",
      "Cols:9\n",
      "\n",
      "\n"
     ]
    },
    {
     "data": {
      "text/html": [
       "<table>\n",
       "<thead>\n",
       "<tr><th>       </th><th>site_id           </th><th>timestamp          </th><th>air_temperature   </th><th>cloud_coverage    </th><th>dew_temperature   </th><th>precip_depth_1_hr  </th><th>sea_level_pressure  </th><th>wind_direction    </th><th>wind_speed        </th></tr>\n",
       "</thead>\n",
       "<tbody>\n",
       "<tr><td>type   </td><td>int               </td><td>time               </td><td>real              </td><td>int               </td><td>real              </td><td>int                </td><td>real                </td><td>int               </td><td>real              </td></tr>\n",
       "<tr><td>mins   </td><td>0.0               </td><td>1483228800000.0    </td><td>-28.1             </td><td>0.0               </td><td>-31.6             </td><td>-1.0               </td><td>972.0               </td><td>0.0               </td><td>0.0               </td></tr>\n",
       "<tr><td>mean   </td><td>7.484654256374377 </td><td>1514683280113.1125 </td><td>14.276862873864756</td><td>2.1873167878942943</td><td>7.487658351268976 </td><td>1.0953951171176128 </td><td>1016.195762135808   </td><td>180.42602303745556</td><td>3.5488725824924217</td></tr>\n",
       "<tr><td>maxs   </td><td>15.0              </td><td>1546297200000.0    </td><td>48.3              </td><td>9.0               </td><td>26.7              </td><td>597.0              </td><td>1050.1              </td><td>360.0             </td><td>24.2              </td></tr>\n",
       "<tr><td>sigma  </td><td>4.6169593638580215</td><td>18177072432.10487  </td><td>10.741605402095232</td><td>2.620626962757527 </td><td>10.153973370185264</td><td>9.16351146106007   </td><td>7.94039170963807    </td><td>110.4568723991389 </td><td>2.3171841824946395</td></tr>\n",
       "<tr><td>zeros  </td><td>17520             </td><td>0                  </td><td>1919              </td><td>64604             </td><td>3445              </td><td>155955             </td><td>0                   </td><td>26052             </td><td>26920             </td></tr>\n",
       "<tr><td>missing</td><td>0                 </td><td>0                  </td><td>104               </td><td>140448            </td><td>327               </td><td>95588              </td><td>21265               </td><td>12370             </td><td>460               </td></tr>\n",
       "<tr><td>0      </td><td>0.0               </td><td>2017-01-01 00:00:00</td><td>17.8              </td><td>4.0               </td><td>11.7              </td><td>nan                </td><td>1021.4              </td><td>100.0             </td><td>3.6               </td></tr>\n",
       "<tr><td>1      </td><td>0.0               </td><td>2017-01-01 01:00:00</td><td>17.8              </td><td>2.0               </td><td>12.8              </td><td>0.0                </td><td>1022.0              </td><td>130.0             </td><td>3.1               </td></tr>\n",
       "<tr><td>2      </td><td>0.0               </td><td>2017-01-01 02:00:00</td><td>16.1              </td><td>0.0               </td><td>12.8              </td><td>0.0                </td><td>1021.9              </td><td>140.0             </td><td>3.1               </td></tr>\n",
       "<tr><td>3      </td><td>0.0               </td><td>2017-01-01 03:00:00</td><td>17.2              </td><td>0.0               </td><td>13.3              </td><td>0.0                </td><td>1022.2              </td><td>140.0             </td><td>3.1               </td></tr>\n",
       "<tr><td>4      </td><td>0.0               </td><td>2017-01-01 04:00:00</td><td>16.7              </td><td>2.0               </td><td>13.3              </td><td>0.0                </td><td>1022.3              </td><td>130.0             </td><td>2.6               </td></tr>\n",
       "<tr><td>5      </td><td>0.0               </td><td>2017-01-01 05:00:00</td><td>15.6              </td><td>2.0               </td><td>12.8              </td><td>0.0                </td><td>1022.1              </td><td>130.0             </td><td>2.1               </td></tr>\n",
       "<tr><td>6      </td><td>0.0               </td><td>2017-01-01 06:00:00</td><td>15.0              </td><td>0.0               </td><td>12.8              </td><td>0.0                </td><td>1021.7              </td><td>150.0             </td><td>1.5               </td></tr>\n",
       "<tr><td>7      </td><td>0.0               </td><td>2017-01-01 07:00:00</td><td>15.0              </td><td>2.0               </td><td>13.3              </td><td>0.0                </td><td>1021.6              </td><td>0.0               </td><td>0.0               </td></tr>\n",
       "<tr><td>8      </td><td>0.0               </td><td>2017-01-01 08:00:00</td><td>13.3              </td><td>0.0               </td><td>12.2              </td><td>0.0                </td><td>1021.4              </td><td>0.0               </td><td>0.0               </td></tr>\n",
       "<tr><td>9      </td><td>0.0               </td><td>2017-01-01 09:00:00</td><td>12.2              </td><td>4.0               </td><td>11.7              </td><td>0.0                </td><td>1021.4              </td><td>0.0               </td><td>0.0               </td></tr>\n",
       "</tbody>\n",
       "</table>"
      ]
     },
     "metadata": {},
     "output_type": "display_data"
    }
   ],
   "source": [
    "weather_test.describe()"
   ]
  },
  {
   "cell_type": "code",
   "execution_count": 12,
   "metadata": {},
   "outputs": [
    {
     "name": "stdout",
     "output_type": "stream",
     "text": [
      "Parse progress: |█████████████████████████████████████████████████████████| 100%\n"
     ]
    }
   ],
   "source": [
    "building_metadata = h2o.import_file('building_metadata.csv')"
   ]
  },
  {
   "cell_type": "markdown",
   "metadata": {},
   "source": [
    "## 2/3 of the total buildings miss floor_count values."
   ]
  },
  {
   "cell_type": "code",
   "execution_count": 13,
   "metadata": {},
   "outputs": [
    {
     "name": "stdout",
     "output_type": "stream",
     "text": [
      "Rows:1449\n",
      "Cols:6\n",
      "\n",
      "\n"
     ]
    },
    {
     "data": {
      "text/html": [
       "<table>\n",
       "<thead>\n",
       "<tr><th>       </th><th>site_id          </th><th>building_id      </th><th>primary_use        </th><th>square_feet       </th><th>year_built        </th><th>floor_count       </th></tr>\n",
       "</thead>\n",
       "<tbody>\n",
       "<tr><td>type   </td><td>int              </td><td>int              </td><td>enum               </td><td>int               </td><td>int               </td><td>int               </td></tr>\n",
       "<tr><td>mins   </td><td>0.0              </td><td>0.0              </td><td>                   </td><td>283.0             </td><td>1900.0            </td><td>1.0               </td></tr>\n",
       "<tr><td>mean   </td><td>6.952380952380956</td><td>724.0            </td><td>                   </td><td>92111.77639751561 </td><td>1967.9570370370368</td><td>3.740845070422533 </td></tr>\n",
       "<tr><td>maxs   </td><td>15.0             </td><td>1448.0           </td><td>                   </td><td>875000.0          </td><td>2017.0            </td><td>26.0              </td></tr>\n",
       "<tr><td>sigma  </td><td>5.003432129073469</td><td>418.4345827008088</td><td>                   </td><td>110769.95099679589</td><td>31.054029542907145</td><td>3.3336826426348267</td></tr>\n",
       "<tr><td>zeros  </td><td>105              </td><td>1                </td><td>                   </td><td>0                 </td><td>0                 </td><td>0                 </td></tr>\n",
       "<tr><td>missing</td><td>0                </td><td>0                </td><td>0                  </td><td>0                 </td><td>774               </td><td>1094              </td></tr>\n",
       "<tr><td>0      </td><td>0.0              </td><td>0.0              </td><td>Education          </td><td>7432.0            </td><td>2008.0            </td><td>nan               </td></tr>\n",
       "<tr><td>1      </td><td>0.0              </td><td>1.0              </td><td>Education          </td><td>2720.0            </td><td>2004.0            </td><td>nan               </td></tr>\n",
       "<tr><td>2      </td><td>0.0              </td><td>2.0              </td><td>Education          </td><td>5376.0            </td><td>1991.0            </td><td>nan               </td></tr>\n",
       "<tr><td>3      </td><td>0.0              </td><td>3.0              </td><td>Education          </td><td>23685.0           </td><td>2002.0            </td><td>nan               </td></tr>\n",
       "<tr><td>4      </td><td>0.0              </td><td>4.0              </td><td>Education          </td><td>116607.0          </td><td>1975.0            </td><td>nan               </td></tr>\n",
       "<tr><td>5      </td><td>0.0              </td><td>5.0              </td><td>Education          </td><td>8000.0            </td><td>2000.0            </td><td>nan               </td></tr>\n",
       "<tr><td>6      </td><td>0.0              </td><td>6.0              </td><td>Lodging/residential</td><td>27926.0           </td><td>1981.0            </td><td>nan               </td></tr>\n",
       "<tr><td>7      </td><td>0.0              </td><td>7.0              </td><td>Education          </td><td>121074.0          </td><td>1989.0            </td><td>nan               </td></tr>\n",
       "<tr><td>8      </td><td>0.0              </td><td>8.0              </td><td>Education          </td><td>60809.0           </td><td>2003.0            </td><td>nan               </td></tr>\n",
       "<tr><td>9      </td><td>0.0              </td><td>9.0              </td><td>Office             </td><td>27000.0           </td><td>2010.0            </td><td>nan               </td></tr>\n",
       "</tbody>\n",
       "</table>"
      ]
     },
     "metadata": {},
     "output_type": "display_data"
    }
   ],
   "source": [
    "building_metadata.describe()"
   ]
  }
 ],
 "metadata": {
  "kernelspec": {
   "display_name": "Python 3",
   "language": "python",
   "name": "python3"
  },
  "language_info": {
   "codemirror_mode": {
    "name": "ipython",
    "version": 3
   },
   "file_extension": ".py",
   "mimetype": "text/x-python",
   "name": "python",
   "nbconvert_exporter": "python",
   "pygments_lexer": "ipython3",
   "version": "3.7.3"
  }
 },
 "nbformat": 4,
 "nbformat_minor": 2
}
